{
  "nbformat": 4,
  "nbformat_minor": 0,
  "metadata": {
    "colab": {
      "name": "Tweepy Assignment",
      "provenance": [],
      "collapsed_sections": [],
      "include_colab_link": true
    },
    "kernelspec": {
      "name": "python3",
      "display_name": "Python 3"
    },
    "accelerator": "GPU"
  },
  "cells": [
    {
      "cell_type": "markdown",
      "metadata": {
        "id": "view-in-github",
        "colab_type": "text"
      },
      "source": [
        "<a href=\"https://colab.research.google.com/github/Taiba528/word-cloud/blob/master/Tweepy_Assignment.ipynb\" target=\"_parent\"><img src=\"https://colab.research.google.com/assets/colab-badge.svg\" alt=\"Open In Colab\"/></a>"
      ]
    },
    {
      "cell_type": "markdown",
      "metadata": {
        "id": "EHj5D8QlOAAh",
        "colab_type": "text"
      },
      "source": [
        "# Importing necessary packages for pulling tweets and doing text mining by using Natural Language Processing (NLP)\n"
      ]
    },
    {
      "cell_type": "code",
      "metadata": {
        "id": "6a3Ozqt1OQhA",
        "colab_type": "code",
        "colab": {}
      },
      "source": [
        "import numpy as np\n",
        "import pandas as pd\n",
        "import tweepy as tw\n",
        "import itertools\n",
        "import collections\n",
        "from textblob import TextBlob\n",
        "import seaborn as sns\n",
        "import matplotlib.pyplot as plt\n",
        "import re"
      ],
      "execution_count": 0,
      "outputs": []
    },
    {
      "cell_type": "markdown",
      "metadata": {
        "id": "MEyZvAuDOa_j",
        "colab_type": "text"
      },
      "source": [
        "# Getting Twitter connection keys from my twitter account\n"
      ]
    },
    {
      "cell_type": "code",
      "metadata": {
        "id": "pJFlYhVPOV3F",
        "colab_type": "code",
        "colab": {}
      },
      "source": [
        "consumer_key =  'nyPmnogrlMebCGHO6HJyxi6EP'\n",
        "consumer_secret = 'OR0jIa6XLkMzjDBlDE0yGzpOZJiOdTZtiB8rmrDUwLpHlhhxkp'\n",
        "access_token = '1170921863419088896-s0w5VcNpXUD1w3HKk0eVJiVnm8hhYB'\n",
        "access_token_secret = 'KCbSVcdmqvvKHSY2gBchTMF8W4oUzng80r5rLHolsX7Ai'\n"
      ],
      "execution_count": 0,
      "outputs": []
    },
    {
      "cell_type": "markdown",
      "metadata": {
        "id": "rxQTS-eDOnnB",
        "colab_type": "text"
      },
      "source": [
        "# Connecting to Twitter API using OAuth Handler"
      ]
    },
    {
      "cell_type": "code",
      "metadata": {
        "id": "8jBv-zccOgPu",
        "colab_type": "code",
        "colab": {}
      },
      "source": [
        "auth = tw.OAuthHandler(consumer_key, consumer_secret)\n",
        "auth.set_access_token(access_token, access_token_secret)\n",
        "api = tw.API(auth,wait_on_rate_limit = True)\n"
      ],
      "execution_count": 0,
      "outputs": []
    },
    {
      "cell_type": "markdown",
      "metadata": {
        "id": "ntH73L4rO2BA",
        "colab_type": "text"
      },
      "source": [
        "# Displaying the latest 20 tweets from the home page\n"
      ]
    },
    {
      "cell_type": "code",
      "metadata": {
        "id": "2H9CyJdEPAsJ",
        "colab_type": "code",
        "colab": {
          "base_uri": "https://localhost:8080/",
          "height": 511
        },
        "outputId": "c20370a0-b259-4bb8-e589-0ed283f8f928"
      },
      "source": [
        "public_tweets = api.home_timeline()\n",
        "for tweet in public_tweets:\n",
        "  print(tweet.text)"
      ],
      "execution_count": 52,
      "outputs": [
        {
          "output_type": "stream",
          "text": [
            "my tweet using Python and Tweepy packages\n",
            "tweet using Python and Tweepy packages\n",
            "Multiprocessing vs Threading in Python: What Every Data Scientist Needs to Know #python https://t.co/DPpj6VlTZL\n",
            "We need your help in the event of a #zombieapocalypse! #Rstats learners, work with your #CDC colleagues to identify… https://t.co/celFurgFdr\n",
            "🐍 How to Make a Discord Bot in Python — https://t.co/YD5HXPGJUR https://t.co/5OBviIBZrg\n",
            "Shri Ghotu Ram Meena, India's Ambassador-designate to Congo, called on President Kovind yesterday at Rashtrapati Bh… https://t.co/ME6Fv1pStu\n",
            "RT @PyImageSearch: New tutorial! 🚀 Learn how to use the Rectified Adam optimizer with #Keras and #DeepLearning to:\n",
            "1. Obtain higher accurac…\n",
            "Preventing SQL Injection Attacks With Python\n",
            "\n",
            "SQL injection are constantly ranked among the most common attacks aga… https://t.co/zxaquJJSbx\n",
            "We have to take necessary steps to improve the enrolment of our girl students in scientific and technical institute… https://t.co/nSyD1dFHOQ\n",
            "The alumni of IIT Roorkee should contribute to their alma mater. They were fortunate to receive world-class educati… https://t.co/OZc3MLlwhi\n",
            "🐍📺 String Indexing [Video] https://t.co/WNIbYqjhzg\n",
            "Sample tweet using Python and Tweepy packages\n",
            "Universities could consider adopting ‘Universities Social Responsibility’ or USR on the lines of Corporate Social R… https://t.co/wsNvp21NLB\n",
            "It is research, innovation and creative ideas that will help us achieve our national goals as well as address the l… https://t.co/onqVfFV9PN\n",
            "IIT Roorkee possesses a rich history and heritage. Many of the alumni of this great institute have been nation-buil… https://t.co/C2W2Ij7n1l\n",
            "President Kovind addresses the annual convocation of IIT Roorkee; says in the long-term, our success lies in develo… https://t.co/vcW9RE79Gy\n",
            "huggingface /\n",
            "\n",
            "      transformers\n",
            "\n",
            "🤗 Transformers: State-of-the-art Natural Language Processing for TensorFlow 2.0… https://t.co/uNYUrnF0Pe\n",
            "🐍 Python Imports Overview [Video] https://t.co/Bar2jA2jmX\n",
            "Watch LIVE as President Kovind addresses the annual convocation of IIT Roorkee https://t.co/uNujeJ6e4b\n",
            "pyrrhic: Programmable Python Build System #python https://t.co/pRIF0n1qe4\n"
          ],
          "name": "stdout"
        }
      ]
    },
    {
      "cell_type": "markdown",
      "metadata": {
        "id": "ht1nTDc4PJLg",
        "colab_type": "text"
      },
      "source": [
        "# Getting Tweeter user detail such as screen name and followers & friends count"
      ]
    },
    {
      "cell_type": "code",
      "metadata": {
        "id": "9RoJKCA-PKoE",
        "colab_type": "code",
        "colab": {
          "base_uri": "https://localhost:8080/",
          "height": 87
        },
        "outputId": "d603a302-99ca-40ca-9502-d590794ba433"
      },
      "source": [
        "user = api.get_user('@Taiba')\n",
        "print('User Screen Name')\n",
        "print(user.screen_name)\n",
        "print(user.followers_count)\n",
        "print(user.friends_count)"
      ],
      "execution_count": 53,
      "outputs": [
        {
          "output_type": "stream",
          "text": [
            "User Screen Name\n",
            "taiba\n",
            "49\n",
            "0\n"
          ],
          "name": "stdout"
        }
      ]
    },
    {
      "cell_type": "markdown",
      "metadata": {
        "id": "zB6W3YEbPhrH",
        "colab_type": "text"
      },
      "source": [
        "I have 49 followers but no friend as I am not responding/following any of them."
      ]
    },
    {
      "cell_type": "markdown",
      "metadata": {
        "id": "PJthqp9-PZkr",
        "colab_type": "text"
      },
      "source": [
        "# Finding followers screen name"
      ]
    },
    {
      "cell_type": "code",
      "metadata": {
        "id": "OFrs4XnyPb-f",
        "colab_type": "code",
        "colab": {
          "base_uri": "https://localhost:8080/",
          "height": 368
        },
        "outputId": "854bc459-de35-4805-a257-42f498f3a182"
      },
      "source": [
        "for followers in user.followers():\n",
        "  print(followers.screen_name)"
      ],
      "execution_count": 54,
      "outputs": [
        {
          "output_type": "stream",
          "text": [
            "EldoktorDr\n",
            "ar14161995\n",
            "Jubair91401159\n",
            "Sarfara06866879\n",
            "fallowu23398021\n",
            "FollowdailyH\n",
            "Ali45187436\n",
            "NjMSvq4Z0mcVFjd\n",
            "GhulamR03239198\n",
            "NaeemTarim\n",
            "Myshikarpurala1\n",
            "Mohamma59539595\n",
            "MattoYasir\n",
            "laiq_dr\n",
            "parwani_saheb\n",
            "UELMIMSG\n",
            "rajaw724\n",
            "ShinningHamood\n",
            "HamiziHd\n",
            "DNasheen\n"
          ],
          "name": "stdout"
        }
      ]
    },
    {
      "cell_type": "markdown",
      "metadata": {
        "id": "VVAsDM8LP8lm",
        "colab_type": "text"
      },
      "source": [
        "So here is the list of 20 followers,which is in default setting"
      ]
    },
    {
      "cell_type": "markdown",
      "metadata": {
        "id": "HM33IVJwQWHo",
        "colab_type": "text"
      },
      "source": [
        "# Posting my first tweet using python\n"
      ]
    },
    {
      "cell_type": "code",
      "metadata": {
        "id": "rWrsqwyPPRTQ",
        "colab_type": "code",
        "colab": {
          "base_uri": "https://localhost:8080/",
          "height": 54
        },
        "outputId": "95e5adbe-f3d2-4671-d599-5823708adb00"
      },
      "source": [
        "api.update_status('Tweet using Python and Tweepy packages')"
      ],
      "execution_count": 55,
      "outputs": [
        {
          "output_type": "execute_result",
          "data": {
            "text/plain": [
              "Status(_api=<tweepy.api.API object at 0x7f807cffaa90>, _json={'created_at': 'Fri Oct 04 17:43:37 +0000 2019', 'id': 1180176660269817856, 'id_str': '1180176660269817856', 'text': 'Tweet using Python and Tweepy packages', 'truncated': False, 'entities': {'hashtags': [], 'symbols': [], 'user_mentions': [], 'urls': []}, 'source': '<a href=\"https://github.com/Taiba528/word-cloud/blob/master/SentimentAnalysis.ipynb\" rel=\"nofollow\">taiba.naz@gmail.com</a>', 'in_reply_to_status_id': None, 'in_reply_to_status_id_str': None, 'in_reply_to_user_id': None, 'in_reply_to_user_id_str': None, 'in_reply_to_screen_name': None, 'user': {'id': 1170921863419088896, 'id_str': '1170921863419088896', 'name': 'Taiba', 'screen_name': 'Taiba57043816', 'location': '', 'description': 'I like Python', 'url': None, 'entities': {'description': {'urls': []}}, 'protected': False, 'followers_count': 0, 'friends_count': 4, 'listed_count': 0, 'created_at': 'Mon Sep 09 04:49:18 +0000 2019', 'favourites_count': 9, 'utc_offset': None, 'time_zone': None, 'geo_enabled': False, 'verified': False, 'statuses_count': 12, 'lang': None, 'contributors_enabled': False, 'is_translator': False, 'is_translation_enabled': False, 'profile_background_color': 'F5F8FA', 'profile_background_image_url': None, 'profile_background_image_url_https': None, 'profile_background_tile': False, 'profile_image_url': 'http://abs.twimg.com/sticky/default_profile_images/default_profile_normal.png', 'profile_image_url_https': 'https://abs.twimg.com/sticky/default_profile_images/default_profile_normal.png', 'profile_link_color': '1DA1F2', 'profile_sidebar_border_color': 'C0DEED', 'profile_sidebar_fill_color': 'DDEEF6', 'profile_text_color': '333333', 'profile_use_background_image': True, 'has_extended_profile': False, 'default_profile': True, 'default_profile_image': True, 'following': False, 'follow_request_sent': False, 'notifications': False, 'translator_type': 'none'}, 'geo': None, 'coordinates': None, 'place': None, 'contributors': None, 'is_quote_status': False, 'retweet_count': 0, 'favorite_count': 0, 'favorited': False, 'retweeted': False, 'lang': 'en'}, created_at=datetime.datetime(2019, 10, 4, 17, 43, 37), id=1180176660269817856, id_str='1180176660269817856', text='Tweet using Python and Tweepy packages', truncated=False, entities={'hashtags': [], 'symbols': [], 'user_mentions': [], 'urls': []}, source='taiba.naz@gmail.com', source_url='https://github.com/Taiba528/word-cloud/blob/master/SentimentAnalysis.ipynb', in_reply_to_status_id=None, in_reply_to_status_id_str=None, in_reply_to_user_id=None, in_reply_to_user_id_str=None, in_reply_to_screen_name=None, author=User(_api=<tweepy.api.API object at 0x7f807cffaa90>, _json={'id': 1170921863419088896, 'id_str': '1170921863419088896', 'name': 'Taiba', 'screen_name': 'Taiba57043816', 'location': '', 'description': 'I like Python', 'url': None, 'entities': {'description': {'urls': []}}, 'protected': False, 'followers_count': 0, 'friends_count': 4, 'listed_count': 0, 'created_at': 'Mon Sep 09 04:49:18 +0000 2019', 'favourites_count': 9, 'utc_offset': None, 'time_zone': None, 'geo_enabled': False, 'verified': False, 'statuses_count': 12, 'lang': None, 'contributors_enabled': False, 'is_translator': False, 'is_translation_enabled': False, 'profile_background_color': 'F5F8FA', 'profile_background_image_url': None, 'profile_background_image_url_https': None, 'profile_background_tile': False, 'profile_image_url': 'http://abs.twimg.com/sticky/default_profile_images/default_profile_normal.png', 'profile_image_url_https': 'https://abs.twimg.com/sticky/default_profile_images/default_profile_normal.png', 'profile_link_color': '1DA1F2', 'profile_sidebar_border_color': 'C0DEED', 'profile_sidebar_fill_color': 'DDEEF6', 'profile_text_color': '333333', 'profile_use_background_image': True, 'has_extended_profile': False, 'default_profile': True, 'default_profile_image': True, 'following': False, 'follow_request_sent': False, 'notifications': False, 'translator_type': 'none'}, id=1170921863419088896, id_str='1170921863419088896', name='Taiba', screen_name='Taiba57043816', location='', description='I like Python', url=None, entities={'description': {'urls': []}}, protected=False, followers_count=0, friends_count=4, listed_count=0, created_at=datetime.datetime(2019, 9, 9, 4, 49, 18), favourites_count=9, utc_offset=None, time_zone=None, geo_enabled=False, verified=False, statuses_count=12, lang=None, contributors_enabled=False, is_translator=False, is_translation_enabled=False, profile_background_color='F5F8FA', profile_background_image_url=None, profile_background_image_url_https=None, profile_background_tile=False, profile_image_url='http://abs.twimg.com/sticky/default_profile_images/default_profile_normal.png', profile_image_url_https='https://abs.twimg.com/sticky/default_profile_images/default_profile_normal.png', profile_link_color='1DA1F2', profile_sidebar_border_color='C0DEED', profile_sidebar_fill_color='DDEEF6', profile_text_color='333333', profile_use_background_image=True, has_extended_profile=False, default_profile=True, default_profile_image=True, following=False, follow_request_sent=False, notifications=False, translator_type='none'), user=User(_api=<tweepy.api.API object at 0x7f807cffaa90>, _json={'id': 1170921863419088896, 'id_str': '1170921863419088896', 'name': 'Taiba', 'screen_name': 'Taiba57043816', 'location': '', 'description': 'I like Python', 'url': None, 'entities': {'description': {'urls': []}}, 'protected': False, 'followers_count': 0, 'friends_count': 4, 'listed_count': 0, 'created_at': 'Mon Sep 09 04:49:18 +0000 2019', 'favourites_count': 9, 'utc_offset': None, 'time_zone': None, 'geo_enabled': False, 'verified': False, 'statuses_count': 12, 'lang': None, 'contributors_enabled': False, 'is_translator': False, 'is_translation_enabled': False, 'profile_background_color': 'F5F8FA', 'profile_background_image_url': None, 'profile_background_image_url_https': None, 'profile_background_tile': False, 'profile_image_url': 'http://abs.twimg.com/sticky/default_profile_images/default_profile_normal.png', 'profile_image_url_https': 'https://abs.twimg.com/sticky/default_profile_images/default_profile_normal.png', 'profile_link_color': '1DA1F2', 'profile_sidebar_border_color': 'C0DEED', 'profile_sidebar_fill_color': 'DDEEF6', 'profile_text_color': '333333', 'profile_use_background_image': True, 'has_extended_profile': False, 'default_profile': True, 'default_profile_image': True, 'following': False, 'follow_request_sent': False, 'notifications': False, 'translator_type': 'none'}, id=1170921863419088896, id_str='1170921863419088896', name='Taiba', screen_name='Taiba57043816', location='', description='I like Python', url=None, entities={'description': {'urls': []}}, protected=False, followers_count=0, friends_count=4, listed_count=0, created_at=datetime.datetime(2019, 9, 9, 4, 49, 18), favourites_count=9, utc_offset=None, time_zone=None, geo_enabled=False, verified=False, statuses_count=12, lang=None, contributors_enabled=False, is_translator=False, is_translation_enabled=False, profile_background_color='F5F8FA', profile_background_image_url=None, profile_background_image_url_https=None, profile_background_tile=False, profile_image_url='http://abs.twimg.com/sticky/default_profile_images/default_profile_normal.png', profile_image_url_https='https://abs.twimg.com/sticky/default_profile_images/default_profile_normal.png', profile_link_color='1DA1F2', profile_sidebar_border_color='C0DEED', profile_sidebar_fill_color='DDEEF6', profile_text_color='333333', profile_use_background_image=True, has_extended_profile=False, default_profile=True, default_profile_image=True, following=False, follow_request_sent=False, notifications=False, translator_type='none'), geo=None, coordinates=None, place=None, contributors=None, is_quote_status=False, retweet_count=0, favorite_count=0, favorited=False, retweeted=False, lang='en')"
            ]
          },
          "metadata": {
            "tags": []
          },
          "execution_count": 55
        }
      ]
    },
    {
      "cell_type": "markdown",
      "metadata": {
        "id": "MPiq0Uf0QZg6",
        "colab_type": "text"
      },
      "source": [
        "I have checked in my twitter account ,its there."
      ]
    },
    {
      "cell_type": "markdown",
      "metadata": {
        "id": "pfrikA7QQwMd",
        "colab_type": "text"
      },
      "source": [
        "# Pulling the latest tweets on any topics by using the tweepy cursor method and removing retweets\n"
      ]
    },
    {
      "cell_type": "code",
      "metadata": {
        "id": "MtZc6n4VOvuk",
        "colab_type": "code",
        "colab": {}
      },
      "source": [
        "tweets = tw.Cursor(api.search, q='@isro-filter:retweets', lang = 'en', since = '2019-04-01').items(100)"
      ],
      "execution_count": 0,
      "outputs": []
    },
    {
      "cell_type": "markdown",
      "metadata": {
        "id": "X3y9_ZFIRPTr",
        "colab_type": "text"
      },
      "source": [
        "# Displaying all tweets’ content using the list comprehension "
      ]
    },
    {
      "cell_type": "code",
      "metadata": {
        "id": "JSilidXwRPim",
        "colab_type": "code",
        "colab": {
          "base_uri": "https://localhost:8080/",
          "height": 1000
        },
        "outputId": "36b5cc64-0642-4232-9748-b600fe96c019"
      },
      "source": [
        "tweets_text = [tweet.text for tweet in tweets]\n",
        "tweets_text"
      ],
      "execution_count": 57,
      "outputs": [
        {
          "output_type": "execute_result",
          "data": {
            "text/plain": [
              "['@isro Proud of you all ..isro 🙏',\n",
              " '@isro Good well-done',\n",
              " '@coolshu97 @isro Nice',\n",
              " '@isro Salute',\n",
              " \"@isro Start protecting the scientists, keep secrets. Do not allow easy Access to people which can be used as information to enemy's.\",\n",
              " '@isro Good',\n",
              " '@isro Awesome...',\n",
              " '@isro Thanks @isro #Chandrayaan2 ... Keep going and keep updating so that we all can rejoice this success 👍',\n",
              " '@isro Always proud @isro',\n",
              " 'This man is hero. The real one who deserve to be.\\nThank you @isro https://t.co/HJWgx9Dx0p',\n",
              " '@isro Magnificent image is captured by #Chandrayan2 \\nGreat job team @isro !!!!',\n",
              " '@isro Can you make it live like nasa does of the outer space.',\n",
              " '@isro Well done👏👏',\n",
              " '@isro Grt job...proud of isro',\n",
              " '@isro Just wow',\n",
              " '@hayleymasai @isro  send her next time',\n",
              " '@isro Very proud of you Team ISRO....\\nCongratulations...',\n",
              " '@isro Well done team esro',\n",
              " '@isro Good luck ISRO',\n",
              " '@sanjaysanjay738 @Ramkul05 @isro @narendramodi Very nice',\n",
              " '@isro Great work team ISRO 🇮🇳✌',\n",
              " '@isro Proud moment ✌💪',\n",
              " '@isro Good jab i am proud of an indain',\n",
              " '@isro Good to see this so sweet weldon',\n",
              " '@isro Great #isro ,India is with you',\n",
              " '@isro Well done greats...',\n",
              " '@isro Great....',\n",
              " 'Really incredible!\\n@isro \\n#ISRO https://t.co/Fxb7M1zOnn',\n",
              " '@isro still love you... #ISROscientist',\n",
              " '@isro Feeling very proud!!!',\n",
              " '#TheGreat_HinduSaint\\n\"SantRampalj Maharaj\"\\nAlmighty Kabir God stopped the sea, which was trying to destroy Jagannat… https://t.co/CRZCsvdjEU',\n",
              " '@isro @thakur_shivangi Well done ISRO .\\nYou made this country very proud.\\nAlso we are the people will also help you after studying this',\n",
              " '@isro #ISRO #Chandrayaan2 #VikramLander so very soon, we are going to get the image of the tilted Vikram lander as well.',\n",
              " '@isro Good To See This....\\n\\nBest of Luck...👍👍',\n",
              " '@isro Great. ..jai hind team',\n",
              " '@isro Good',\n",
              " '@isro Wow ISRO... Proud moment for all Indians...',\n",
              " '@mvmeet @isro please clarify.',\n",
              " '@isro Hard work gives best result at any time .',\n",
              " 'Spacetech #giants join hands.\\n\\n@NASA @NASA_Lunar @NASA360 @SpaceX @isro @MarsOrbiter @elonmusk https://t.co/gthvnJEIYR',\n",
              " \"@MajorPoonia @isro Look what I shared: 'Money dispute over gay sex led to Indian scientist's murder'  https://t.co/B8zvBXFNDr\",\n",
              " \"@isro #ISRO #VikramLander @isro\\nHave a look at the images taken by #Chandrayaan2's Orbiter High Resolution Camera (… https://t.co/4HoqDCe5Pn\",\n",
              " '@isro Excellent. Congratulations ISRO. We are proud of you.',\n",
              " '@isro We are very proud of all Team members at ISRO',\n",
              " '@isro  Chandrayaan 2 orbiter doing its fantastic job.. https://t.co/G1UViHkRKr',\n",
              " '@isro If landar is live .it will be work smoothly  .please wait.please landar ji connect with .....loonar.',\n",
              " \"@isro shares close up pictures of the #moon surface captured by the #Chandrayan2's Orbiter High Resolution Camera.… https://t.co/JMqSfi6pA3\",\n",
              " '@isro Salute to Our Scientists 👍💚💙',\n",
              " '@isro PROUD of ISRO,\\nPROUD to be INDIAN🇮🇳 https://t.co/eSfpNj6Sow',\n",
              " '@isro this is incredible🙌🇮🇳',\n",
              " 'Proud of you team @ISRO https://t.co/TikmlW1OZ5',\n",
              " '@IronManIndianDr @Vinay___Verma @isro None lunar Orbiter in the history had so clear and high resolution camera tha… https://t.co/mGNiZEEN81',\n",
              " \"@me_tonystark @Sujay__Raj @isro Exactly , Exposat is probably our second observatory , advanced version of Astrosat . It's big mission too\",\n",
              " '@isro Well done',\n",
              " '@IronManIndianDr @isro @RSSorg @ncbn @suhasinih @Geeta_Mohan @sardesairajdeep @BDUTT @smitaprakash @Nidhi @nistula… https://t.co/YPhiDWuFxM',\n",
              " '@isro Feeling fulfilled when look this. 😍👍👍🇮🇳🇮🇳🇮🇳🇮🇳🇮🇳🇮🇳\\n#ISRO',\n",
              " '@isro Good news',\n",
              " '@isro We proud of you isro',\n",
              " '@NASA Hope.@NASA @isro',\n",
              " '@isro Love you isro',\n",
              " '@isro Jay hind',\n",
              " '@isro Great job team #ISRO',\n",
              " '@MajorPoonia @KyaUkhaadLega @isro @narendramodi All the people in this timeline need to get their brain tested. The… https://t.co/RKc3AfLC5M',\n",
              " '@isro @rajnish1Midas until yesterday u were going around and telling everybody that it was because of PM modi that… https://t.co/VU3kdVPXwv',\n",
              " '@MajorPoonia @KyaUkhaadLega @isro @narendramodi Poonia, now police have ascertained that ISRO scientist was killed… https://t.co/IYcwlwyPN7',\n",
              " 'Much of hard work of our scientists has got eclipsed by triumph of popular narrative of ignorant media over a range… https://t.co/ZmEbeNKIPs',\n",
              " '@isro We Love ISRO',\n",
              " '@isro Awesome',\n",
              " '@isro Lovely',\n",
              " '@isro My percentage is 65% but my pointer is 5.8 . can i apply ?',\n",
              " '@KrishrakhiH @isro U r mc',\n",
              " '@isro Great achievement so far',\n",
              " '@isro We will do it, nothing happens wrong with us.',\n",
              " '@isro Chandrayan 3 will be successful @isro',\n",
              " '@isro I hope we will get clear image of #VikramLander soon',\n",
              " \"@isro Let's locate VIKRAM later\",\n",
              " '@isro Wonderfull.',\n",
              " '@isro 💖💖💖 ISRO 💖💖💖 https://t.co/BFEU0ttSUe',\n",
              " '@isro Good job',\n",
              " '@isro Keep going good job ISRO best of luck for future projects',\n",
              " '@isro We are with you sir &amp; we are proud of you.jay hind#isro',\n",
              " '@isro Proud of the whole isro team they collect the whole country to be a part of chandrayaan 2',\n",
              " '@isro Hopeful👌👌🤠#ISRO...#Chandrayan2 ......#VikramLander',\n",
              " '@isro We dnt want High resolution pictures.... Just we want wr is Vikram lander......??',\n",
              " '@isro Well done ISRO',\n",
              " \"Police have arrested a lab technician, Srinivas in the murder case of  S Suresh Kumar, a scientist with #ISRO's Nat… https://t.co/2qWlapnDXB\",\n",
              " '@isro Really....we are proud of u, ISRO 🇮🇳🇮🇳🇮🇳🇮🇳🇮🇳',\n",
              " '@isro releases the first images taken from the Orbiter High Resolution Camera (OHRC) onboard Chandrayaan-2 Orbiter.… https://t.co/ngnjmOnEoI',\n",
              " '@isro ISRO Scientist Suresh Kumar hit on head, found dead in Hyderabad.\\n\\nDeath is made to look like suicide as per… https://t.co/cTitP15zgk',\n",
              " '@isro Dream 11 Today (PRO)\\n🅲🆁🅸🅲🅺🅴🆃,\\n🅵🅾🅾🆃🅱🅰🅻🅻,🎯🎯🎯⚽🏇🏈🏉🏊🏀🏀🏀⚾🎾⛳🚾🔊🔊🔊💪💪💪👍👍✌✌✌✌✌👇👇👇\\n*Join only announced MATCHES if \\nAny i… https://t.co/7uQM8JvhHf',\n",
              " '@isro Congrats #ISRO \\nYou have proved that chand per daag (pit) hai...\\n#IsroPerGarvHai\\n#Chandrayan2',\n",
              " \"@MajorPoonia @isro @narendramodi Foreign agency, lol. \\n\\nNow you know why ISRO withheld the cause of 'mysterious' de… https://t.co/rmiMNaRet9\",\n",
              " \"#ISRO releases the images taken by #Chandrayaan2's Orbiter High Resolution Camera (OHRC). These images were aquired… https://t.co/yc8JHvOxj2\",\n",
              " '@isro I proud my #isro',\n",
              " '@isro Great india 💪🏻💪🏻',\n",
              " '@isro Good well super isro',\n",
              " '@isro We proud of you ISRO',\n",
              " '@isro is all set for all missions. Upcoming decade is gonna be very important for INDIA let’s pray for the success… https://t.co/6LZCB1p5Mi',\n",
              " '@isro Good news well done !!!',\n",
              " '@Golu28042809 @isro Good info. If you need more data I did this video: https://t.co/EUFl1ZGw0i']"
            ]
          },
          "metadata": {
            "tags": []
          },
          "execution_count": 57
        }
      ]
    },
    {
      "cell_type": "markdown",
      "metadata": {
        "id": "lAJ_yanlR05F",
        "colab_type": "text"
      },
      "source": [
        "# Finding the number of tweets fetched"
      ]
    },
    {
      "cell_type": "code",
      "metadata": {
        "id": "D1X3_MiuRd6-",
        "colab_type": "code",
        "colab": {
          "base_uri": "https://localhost:8080/",
          "height": 34
        },
        "outputId": "7e40de72-58c1-48a0-f685-b28e1fd3a95d"
      },
      "source": [
        "len(tweets_text)"
      ],
      "execution_count": 58,
      "outputs": [
        {
          "output_type": "execute_result",
          "data": {
            "text/plain": [
              "100"
            ]
          },
          "metadata": {
            "tags": []
          },
          "execution_count": 58
        }
      ]
    },
    {
      "cell_type": "markdown",
      "metadata": {
        "id": "-pWys6eqSHQp",
        "colab_type": "text"
      },
      "source": [
        "# Displaying a particular tweet."
      ]
    },
    {
      "cell_type": "code",
      "metadata": {
        "id": "DWe48PX1SJNk",
        "colab_type": "code",
        "colab": {
          "base_uri": "https://localhost:8080/",
          "height": 52
        },
        "outputId": "2fe662d0-f9be-48f0-9cab-ad6c4472a2b0"
      },
      "source": [
        "# Pulling a particular tweet\n",
        "print(tweets_text[0])\n",
        "print(tweets_text[99])"
      ],
      "execution_count": 59,
      "outputs": [
        {
          "output_type": "stream",
          "text": [
            "@isro Proud of you all ..isro 🙏\n",
            "@Golu28042809 @isro Good info. If you need more data I did this video: https://t.co/EUFl1ZGw0i\n"
          ],
          "name": "stdout"
        }
      ]
    },
    {
      "cell_type": "markdown",
      "metadata": {
        "id": "AnqE6lVrSR1D",
        "colab_type": "text"
      },
      "source": [
        "Here  I have printed first and last(100th) tweets fetched by Tweepy."
      ]
    },
    {
      "cell_type": "markdown",
      "metadata": {
        "id": "Pw67E2lxSjDW",
        "colab_type": "text"
      },
      "source": [
        "# Pulling tweets by search words"
      ]
    },
    {
      "cell_type": "code",
      "metadata": {
        "id": "V0cPOZOFSwJZ",
        "colab_type": "code",
        "colab": {
          "base_uri": "https://localhost:8080/",
          "height": 177
        },
        "outputId": "24bc31f6-928c-47ad-cdfc-1829274fc346"
      },
      "source": [
        "#Pull tweets by search words\n",
        "tweets = tw.Cursor(api.search, q='ICICI  debit card offer-filter:retweets',lang = 'en', since = '2019-04-01').items(100)\n",
        "tweets_text = [tweet.text for tweet in tweets]\n",
        "tweets_text"
      ],
      "execution_count": 60,
      "outputs": [
        {
          "output_type": "execute_result",
          "data": {
            "text/plain": [
              "['FLIPKART BIG BILLION DAYS\\n\\nUdi RC U818A 2.4GHz Rc Drone with HD Camera (720P) - 4Ch (6 Axis)(Black) at ₹2999\\n\\nLink:… https://t.co/1oVsGAN3Wh',\n",
              " 'FLIPKART BIG BILLION DAYS\\n\\nJBL FREEX True Wireless Bluetooth Headset with Mic  (Black, In the Ear) at ₹3999\\n\\nLink:… https://t.co/ra3AU3ETUJ',\n",
              " 'FLIPKART BIG BILLION DAYS\\n\\n58% Off  :Nokia 8 (Black, 128 GB)  (6 GB RAM) at Rs.22,999\\n\\nLink:… https://t.co/wDisnb8bq1',\n",
              " '@ShivaA_K Axis Bank &amp; ICICI bank on 10 % instant discount and now also available zero cost of emi debit card facility offer on flipkart .',\n",
              " '@ICICIBank_Care @ICICIBank upgraded to icici one magnum account, as promotional offer, debit card transaction more… https://t.co/S1NdmYJjjQ',\n",
              " 'ICICI Bank Debit Card Offer: Get Up to Rs.250 Cashback on 5 Transaction https://t.co/VLPZi7mAiB ICICI Bank Debit Ca… https://t.co/Y9Kuxu6Np9',\n",
              " 'ICICI Bank Debit Card Offer: Get Up to Rs.250 Cashback on 5 Transaction https://t.co/p0SfRwWusJ',\n",
              " '@realmecareIN That is only bank offer, it is not any price cut offer, for person who does not have any credit or de… https://t.co/EhrV7XKz8W']"
            ]
          },
          "metadata": {
            "tags": []
          },
          "execution_count": 60
        }
      ]
    },
    {
      "cell_type": "markdown",
      "metadata": {
        "id": "uxzCBLEATFIl",
        "colab_type": "text"
      },
      "source": [
        "I have ICICI debit card & I wanted to know the current offer going on and tweepy had helped me to know,great!"
      ]
    },
    {
      "cell_type": "markdown",
      "metadata": {
        "id": "B0FCJMuJTtAc",
        "colab_type": "text"
      },
      "source": [
        "# Pulling tweets by hastags"
      ]
    },
    {
      "cell_type": "code",
      "metadata": {
        "id": "ve4r8fxETwJ5",
        "colab_type": "code",
        "colab": {
          "base_uri": "https://localhost:8080/",
          "height": 1000
        },
        "outputId": "b385f9de-1936-4e85-9c80-0af97dd7e532"
      },
      "source": [
        "# Pull tweets by hashtags\n",
        "tweets = tw.Cursor(api.search, q='#datascientist job -filter:retweets',lang = 'en', since = '2019-04-01').items(100)\n",
        "tweets_text = [tweet.text for tweet in tweets]\n",
        "tweets_text"
      ],
      "execution_count": 61,
      "outputs": [
        {
          "output_type": "execute_result",
          "data": {
            "text/plain": [
              "['Midtown #Manhattan…Home to some of the most iconic businesses, buildings and structures in the world. Why not join… https://t.co/Jx2xJL9ziT',\n",
              " 'Why #ChiefData officers need more power -corporations have responded to the data imperative by creating new job opp… https://t.co/u7W8YddpqJ',\n",
              " \"If you're looking for work in Offutt Air Force Base, NE, check out this #ProjectMgmt job via the link in our bio: A… https://t.co/lgvrsfpIBm\",\n",
              " '\"After the programme, all of the people in my team who moved away from academia, managed to get a job as a… https://t.co/e5YJWzA6vu',\n",
              " 'USGIF to Host Geospatial Job Fair in St. Louis. #BigData #Analytics #GeoSpatial #GIS #DataScience #AI… https://t.co/GGgCfDSI8D',\n",
              " 'Augmentative AI helps you do your job - not take it. | https://t.co/sXde8taxBQ #datascience #ai… https://t.co/SxEweaIT4a',\n",
              " \"Here's a cheatsheet with 9 must-have skills #analytics and #machinelearning enthusiasts should know about.… https://t.co/8bqdsoFSbB\",\n",
              " 'Airbnb is looking for a Data Scientist – Inference, Trust: https://t.co/htEMZEm1KM #AI #ArtificialIntelligence… https://t.co/1RLdZyVJhF',\n",
              " 'Unlock the 𝗝𝗼𝗯𝘀 𝗶𝗻 𝗗𝗮𝘁𝗮 𝗦𝗰𝗶𝗲𝗻𝗰𝗲 and build your Data Science Career!!!\\n#datascience #jobs #careers #datascientist\\nhttps://t.co/la1xkfYIhP',\n",
              " '#AI #JOBS:Some of today’s most popular AI job titles include:\\n*+AI Job Descriptions/ AI Jobs: Additional Experience… https://t.co/SX0j2rpYDu',\n",
              " 'Our client has a multitude of external #data from a great variety of sources, they are the most data-rich company i… https://t.co/trWZRDsQeU',\n",
              " 'Interested in a job in #OffuttAirForceBase, NE? This could be a great fit. Click the link in our bio to apply: Seni… https://t.co/KfeyfQ5wAC',\n",
              " '[JOB ALERT] The National Security Agency is hiring a #DataScientist - Entry to Experienced Level in Fort Meade, MD.… https://t.co/hHRcjahP9a',\n",
              " 'We are an Award Winning Company, that offers a Flexible Work Schedule, Great Benefits &amp; Excellent Pay. We are… https://t.co/MP4Vy7NbaR',\n",
              " 'Looking for a #DataScientist or #MachineLearning job? Here is a comprehensive guide on getting hired quickly -… https://t.co/mRlbzjcMnk',\n",
              " 'We are hiring Sr. Data Scientist (NLP) at @blackbird_ai https://t.co/OhpLbfPMUk. Join our team, if you are interest… https://t.co/vOrH19D0VQ',\n",
              " 'Centurylink is looking for a Lead Data Scientist: https://t.co/5jzux8j5HR #AI #ArtificialIntelligence… https://t.co/GwBJFSecKl',\n",
              " 'Centurylink is hiring a Sr Data Scientist: https://t.co/KgJ9He1yQc #AI #ArtificialIntelligence #MachineLearning… https://t.co/ymw25NlJje',\n",
              " \"That's probably why white house needs an in-house #DataScientist or maybe even a part-time employee.. @dpatil are y… https://t.co/Ov12vskztO\",\n",
              " 'Essential Data Science Job Skills Every #DataScientist Should Know by @datasciencedojo https://t.co/3xxnBvpVAX\\n\\n\"Tr… https://t.co/jy0X4kWkLD',\n",
              " 'Essential #DataScience Job Skills Every #DataScientist Should Know https://t.co/omrDyaHjZz',\n",
              " \"Is the role of Data Scientist the 'sexiest job of the twenty-first century'? Discuss\\n\\nHow Big Data and AI have tran… https://t.co/LyO3fJrbYe\",\n",
              " 'Butterfly Network needs a Machine Learning Engineering Intern: https://t.co/9MzzwttqPo #AI #ArtificialIntelligence… https://t.co/BjePXB4dB4',\n",
              " '[🇨🇦Job] We are currently seeking a Financial Crime Data Analytics with a quantitative modelling profile to join a F… https://t.co/hN06Rlc9ha',\n",
              " '#MachineLearning #Bootcamp Become a #ML #Engineer in 6 months. #JobGuaranteed \\n\\nhttps://t.co/J8084x1dwi\\n\\n#AI… https://t.co/UMIjq3bAPg',\n",
              " '#Livermore, CA is a wealth of technology, research and innovation. Join our team and become a part of an amazing, a… https://t.co/seyS8aD4BL',\n",
              " 'Did you know that the Harvard Business Review calls Data Science as the hottest job of the 21st\\xa0century??\\nWill you… https://t.co/v7d7JTRIo7',\n",
              " 'King is looking for a Senior Data Scientist – Analytics Products: https://t.co/46X7RJR9ld #AI… https://t.co/z99IIyV43i',\n",
              " 'New #job: Data Analyst - Start Up - Dublin City Centre Location: Dublin City Centre Salary: 30kpa - 40kpa ..… https://t.co/4BHoTQY0iH',\n",
              " 'Sumner &amp; Scott have been instructed to recruit a Senior Data Scientist for a fantastic opportunity in Bournemouth.… https://t.co/oRQxUsipH6',\n",
              " 'Sumner &amp; Scott have been instructed to recruit a Senior Data Scientist for a fantastic opportunity in Bournemouth.… https://t.co/xg2CyRMw8Q',\n",
              " 'This job is now open at SAIC in #UpperMarlboro, MD. Follow us and turn on mobile alerts to hear about jobs like the… https://t.co/TERD5ID6LH',\n",
              " 'If You are Wondering 𝗛𝗼𝘄 𝘁𝗼 𝗚𝗲𝘁 𝗬𝗼𝘂𝗿 𝗙𝗶𝗿𝘀𝘁 𝗝𝗼𝗯 𝗶𝗻 𝗗𝗮𝘁𝗮 𝗦𝗰𝗶𝗲𝗻𝗰𝗲?🤔 Take a Leap in your Career and Just check out this… https://t.co/oNJvOq58Wo',\n",
              " '[JOB ALERT] The National Security Agency is hiring a #DataScientist - Entry to Experienced Level in Fort Meade, MD.… https://t.co/udtIGuAWee',\n",
              " 'Check out this job: Senior Data Scientist (NLP) - London \\nContact Ryan Naidoo @ MBN Solutions\\n\\n#datascientist… https://t.co/Q1keEdq4uk',\n",
              " 'Data scientist maybe “sexiest job” but #DataEngineer acquires, transforms, enriches data for #DataScientist to do t… https://t.co/bMVipVTik9',\n",
              " 'Do you have a driving passion to excel, lead and change the world? Apply to join as our Data Scientist and help us… https://t.co/0Gjz7G8koG',\n",
              " 'Right now my only priority is to get a job in machine learning. #MachineLearning #DataScientist #job',\n",
              " '#MachineLearning #Bootcamp Become a #ML #Engineer in 6 months. #JobGuaranteed \\n\\nhttps://t.co/J8084x1dwi\\n\\n#AI… https://t.co/nIWvL6CcLu',\n",
              " 'Want to land a job like \"Data Scientist\" at Lawrence Livermore National Laboratory? Applicant tracking systems look… https://t.co/JUqLG8kEiS',\n",
              " 'What New Data Scientists Need to Know for Their First Job https://t.co/3payzPLjUR  #DataScientist',\n",
              " 'How to Get a Machine Learning Job in 2019.  #BigData #Analytics #DataScience #AI #MachineLearning #IoT #IIoT… https://t.co/J4HWXS1NWc',\n",
              " \"If you're looking for work in Tampa, FL, check out this #ProjectMgmt job via the link in our bio: Data Scientist at SAIC #DataScientist\",\n",
              " '\"Without @Springboard, I would not have been able to get this job; I also don\\'t think I would be as good at this jo… https://t.co/5rYrzTfM9m',\n",
              " 'Make Your Own Job in Data Science: A High-Risk, High-Reward Approach #scientist #kdnuggets #datascientist #data https://t.co/vPtjq8zLM3',\n",
              " 'From Digital Media Jobs Network  \\nLatest Data Science Job -Dallas area\\n\\nInfinite Computer Solutions- Sr Data Scient… https://t.co/1lFe79hYMH',\n",
              " 'This job might be a great fit for you: Data Engineer - https://t.co/3LcfJQHpO8 #datascientist #SantaMonica, CA',\n",
              " 'Find out the latest\\xa0#job\\xa0#opportunities\\xa0at Recruise India Consulting on\\xa0https://t.co/BDToh0wBNN.\\xa0#Director-UnifiedC… https://t.co/sITphyKYGv',\n",
              " 'Essential Data Science Job Skills Every Data Scientist Should Know » https://t.co/gAB273NiEL #DataScientist #BigData',\n",
              " \"Did you know 60% techies HATE their job? The rest are just lying to get their bonuses.\\nDon't be that person. Choose… https://t.co/nL9MK8rLEO\",\n",
              " '[🇨🇦Job] We are currently seeking a Financial Crime Data Analytics with a quantitative modelling profile to join a F… https://t.co/AKxySZzEv0',\n",
              " 'What New Data Scientists Need to Know for Their First Job https://t.co/3payzPLjUR  #DataScientist',\n",
              " '[JOB ALERT] The National Security Agency is hiring a #DataScientist - Entry to Experienced Level in Fort Meade, MD.… https://t.co/ErwMCs8w1n',\n",
              " '@redberryinv in the #Omaha #Nebraska area is looking for a Senior Data Scientist to join their fast-growing team!… https://t.co/VVFFwUD1j4',\n",
              " '\"#DataScientist is the sexiest job of the century.\" -Jed Dougherty @dataiku is NOT sick of hearing it; in fact he l… https://t.co/NSffOP6RK8',\n",
              " 'Check out the possibilities with @_NetImpact at the October 3 All Clearances #ClearedJobFair… https://t.co/6DtChsXbaX',\n",
              " 'Hello,\\nHiring Data Scientist  To Report for our client in London, Uk. Kindly please check the below details and sen… https://t.co/uK92oi0RxF',\n",
              " \"Swivelt's team is growing with fantastic pace. Now we are looking for the Data Analyst. Come check the JD on our we… https://t.co/J4TtVOW2Id\",\n",
              " 'Data Scientist – Best Job of the Year in USA #scientist #kdnuggets #data #usa #datascientist https://t.co/NWV0M70QLF',\n",
              " 'Taboola is hiring a Data Scientist: https://t.co/ohiO937p6s #AI #ArtificialIntelligence #MachineLearning #DataJobs… https://t.co/4crhO3kJLG',\n",
              " 'KDnuggets™ News 19:n23, Jun 19: Useful Stats for Data Scientists; Python, TensorFlow &amp; R Winners in Latest Job Repo… https://t.co/eIM0OjzTI6']"
            ]
          },
          "metadata": {
            "tags": []
          },
          "execution_count": 61
        }
      ]
    },
    {
      "cell_type": "markdown",
      "metadata": {
        "id": "Bt7m27GyUawr",
        "colab_type": "text"
      },
      "source": [
        "Here I have taken the help of tweepy to find out about data scientist job.\n",
        "Now let's move towards the assignment part."
      ]
    },
    {
      "cell_type": "markdown",
      "metadata": {
        "id": "DoVP5x5MVH71",
        "colab_type": "text"
      },
      "source": [
        "# Assignment"
      ]
    },
    {
      "cell_type": "markdown",
      "metadata": {
        "id": "0kYYl96SVM6G",
        "colab_type": "text"
      },
      "source": [
        "As an assignment we are required to list 10 things we can do using tweepy."
      ]
    },
    {
      "cell_type": "markdown",
      "metadata": {
        "id": "s2_9f-_-VSDC",
        "colab_type": "text"
      },
      "source": [
        "# 1.Methods to follow"
      ]
    },
    {
      "cell_type": "code",
      "metadata": {
        "id": "mCC0uNsjVGtg",
        "colab_type": "code",
        "colab": {
          "base_uri": "https://localhost:8080/",
          "height": 54
        },
        "outputId": "6779a015-c1ed-4df1-c953-296d523cb9a0"
      },
      "source": [
        "#Tweepy to start following @realpython:\n",
        "api.create_friendship(\"realpython\")"
      ],
      "execution_count": 62,
      "outputs": [
        {
          "output_type": "execute_result",
          "data": {
            "text/plain": [
              "User(_api=<tweepy.api.API object at 0x7f807cffaa90>, _json={'id': 745911914, 'id_str': '745911914', 'name': 'Real Python', 'screen_name': 'realpython', 'location': '', 'description': 'Python developer resources: #Python tutorials, video courses, sample projects, news, and more!', 'url': 'https://t.co/TyrG6KBLOG', 'entities': {'url': {'urls': [{'url': 'https://t.co/TyrG6KBLOG', 'expanded_url': 'http://realpython.com', 'display_url': 'realpython.com', 'indices': [0, 23]}]}, 'description': {'urls': []}}, 'protected': False, 'followers_count': 55384, 'friends_count': 119, 'listed_count': 1771, 'created_at': 'Wed Aug 08 20:44:42 +0000 2012', 'favourites_count': 50217, 'utc_offset': None, 'time_zone': None, 'geo_enabled': False, 'verified': False, 'statuses_count': 36555, 'lang': None, 'status': {'created_at': 'Fri Oct 04 17:00:30 +0000 2019', 'id': 1180165809248903169, 'id_str': '1180165809248903169', 'text': 'Multiprocessing vs Threading in Python: What Every Data Scientist Needs to Know #python https://t.co/DPpj6VlTZL', 'truncated': False, 'entities': {'hashtags': [{'text': 'python', 'indices': [80, 87]}], 'symbols': [], 'user_mentions': [], 'urls': [{'url': 'https://t.co/DPpj6VlTZL', 'expanded_url': 'https://sumit-ghosh.com/articles/multiprocessing-vs-threading-python-data-science/', 'display_url': 'sumit-ghosh.com/articles/multi…', 'indices': [88, 111]}]}, 'source': '<a href=\"https://socialbee.io/\" rel=\"nofollow\">SocialBee.io v2</a>', 'in_reply_to_status_id': None, 'in_reply_to_status_id_str': None, 'in_reply_to_user_id': None, 'in_reply_to_user_id_str': None, 'in_reply_to_screen_name': None, 'geo': None, 'coordinates': None, 'place': None, 'contributors': None, 'is_quote_status': False, 'retweet_count': 7, 'favorite_count': 31, 'favorited': False, 'retweeted': False, 'possibly_sensitive': False, 'lang': 'en'}, 'contributors_enabled': False, 'is_translator': False, 'is_translation_enabled': False, 'profile_background_color': 'C0DEED', 'profile_background_image_url': 'http://abs.twimg.com/images/themes/theme1/bg.png', 'profile_background_image_url_https': 'https://abs.twimg.com/images/themes/theme1/bg.png', 'profile_background_tile': False, 'profile_image_url': 'http://pbs.twimg.com/profile_images/952818577719091200/rBCQPkA9_normal.jpg', 'profile_image_url_https': 'https://pbs.twimg.com/profile_images/952818577719091200/rBCQPkA9_normal.jpg', 'profile_banner_url': 'https://pbs.twimg.com/profile_banners/745911914/1528248000', 'profile_link_color': '1DA1F2', 'profile_sidebar_border_color': 'C0DEED', 'profile_sidebar_fill_color': 'DDEEF6', 'profile_text_color': '333333', 'profile_use_background_image': True, 'has_extended_profile': False, 'default_profile': True, 'default_profile_image': False, 'following': True, 'follow_request_sent': False, 'notifications': False, 'muting': False, 'translator_type': 'none'}, id=745911914, id_str='745911914', name='Real Python', screen_name='realpython', location='', description='Python developer resources: #Python tutorials, video courses, sample projects, news, and more!', url='https://t.co/TyrG6KBLOG', entities={'url': {'urls': [{'url': 'https://t.co/TyrG6KBLOG', 'expanded_url': 'http://realpython.com', 'display_url': 'realpython.com', 'indices': [0, 23]}]}, 'description': {'urls': []}}, protected=False, followers_count=55384, friends_count=119, listed_count=1771, created_at=datetime.datetime(2012, 8, 8, 20, 44, 42), favourites_count=50217, utc_offset=None, time_zone=None, geo_enabled=False, verified=False, statuses_count=36555, lang=None, status=Status(_api=<tweepy.api.API object at 0x7f807cffaa90>, _json={'created_at': 'Fri Oct 04 17:00:30 +0000 2019', 'id': 1180165809248903169, 'id_str': '1180165809248903169', 'text': 'Multiprocessing vs Threading in Python: What Every Data Scientist Needs to Know #python https://t.co/DPpj6VlTZL', 'truncated': False, 'entities': {'hashtags': [{'text': 'python', 'indices': [80, 87]}], 'symbols': [], 'user_mentions': [], 'urls': [{'url': 'https://t.co/DPpj6VlTZL', 'expanded_url': 'https://sumit-ghosh.com/articles/multiprocessing-vs-threading-python-data-science/', 'display_url': 'sumit-ghosh.com/articles/multi…', 'indices': [88, 111]}]}, 'source': '<a href=\"https://socialbee.io/\" rel=\"nofollow\">SocialBee.io v2</a>', 'in_reply_to_status_id': None, 'in_reply_to_status_id_str': None, 'in_reply_to_user_id': None, 'in_reply_to_user_id_str': None, 'in_reply_to_screen_name': None, 'geo': None, 'coordinates': None, 'place': None, 'contributors': None, 'is_quote_status': False, 'retweet_count': 7, 'favorite_count': 31, 'favorited': False, 'retweeted': False, 'possibly_sensitive': False, 'lang': 'en'}, created_at=datetime.datetime(2019, 10, 4, 17, 0, 30), id=1180165809248903169, id_str='1180165809248903169', text='Multiprocessing vs Threading in Python: What Every Data Scientist Needs to Know #python https://t.co/DPpj6VlTZL', truncated=False, entities={'hashtags': [{'text': 'python', 'indices': [80, 87]}], 'symbols': [], 'user_mentions': [], 'urls': [{'url': 'https://t.co/DPpj6VlTZL', 'expanded_url': 'https://sumit-ghosh.com/articles/multiprocessing-vs-threading-python-data-science/', 'display_url': 'sumit-ghosh.com/articles/multi…', 'indices': [88, 111]}]}, source='SocialBee.io v2', source_url='https://socialbee.io/', in_reply_to_status_id=None, in_reply_to_status_id_str=None, in_reply_to_user_id=None, in_reply_to_user_id_str=None, in_reply_to_screen_name=None, geo=None, coordinates=None, place=None, contributors=None, is_quote_status=False, retweet_count=7, favorite_count=31, favorited=False, retweeted=False, possibly_sensitive=False, lang='en'), contributors_enabled=False, is_translator=False, is_translation_enabled=False, profile_background_color='C0DEED', profile_background_image_url='http://abs.twimg.com/images/themes/theme1/bg.png', profile_background_image_url_https='https://abs.twimg.com/images/themes/theme1/bg.png', profile_background_tile=False, profile_image_url='http://pbs.twimg.com/profile_images/952818577719091200/rBCQPkA9_normal.jpg', profile_image_url_https='https://pbs.twimg.com/profile_images/952818577719091200/rBCQPkA9_normal.jpg', profile_banner_url='https://pbs.twimg.com/profile_banners/745911914/1528248000', profile_link_color='1DA1F2', profile_sidebar_border_color='C0DEED', profile_sidebar_fill_color='DDEEF6', profile_text_color='333333', profile_use_background_image=True, has_extended_profile=False, default_profile=True, default_profile_image=False, following=True, follow_request_sent=False, notifications=False, muting=False, translator_type='none')"
            ]
          },
          "metadata": {
            "tags": []
          },
          "execution_count": 62
        }
      ]
    },
    {
      "cell_type": "markdown",
      "metadata": {
        "id": "VC8HTF5oV9iz",
        "colab_type": "text"
      },
      "source": [
        "This code shows how we can use Tweepy to start following @realpython."
      ]
    },
    {
      "cell_type": "markdown",
      "metadata": {
        "id": "DlmxdtP8WwLi",
        "colab_type": "text"
      },
      "source": [
        "# 2.Methods for Likes"
      ]
    },
    {
      "cell_type": "code",
      "metadata": {
        "id": "5jRBymKIWzNw",
        "colab_type": "code",
        "colab": {
          "base_uri": "https://localhost:8080/",
          "height": 72
        },
        "outputId": "53d2d417-6f96-412f-efbe-c54c46fc28e9"
      },
      "source": [
        "#mark the most recent tweet in my home timeline as Liked.\n",
        "tweets = api.home_timeline(count=1)\n",
        "tweet = tweets[0]\n",
        "print(f\"Liking tweet {tweet.id} of {tweet.author.name}\")\n",
        "api.create_favorite(tweet.id)"
      ],
      "execution_count": 63,
      "outputs": [
        {
          "output_type": "stream",
          "text": [
            "Liking tweet 1180176660269817856 of Taiba\n"
          ],
          "name": "stdout"
        },
        {
          "output_type": "execute_result",
          "data": {
            "text/plain": [
              "Status(_api=<tweepy.api.API object at 0x7f807cffaa90>, _json={'created_at': 'Fri Oct 04 17:43:37 +0000 2019', 'id': 1180176660269817856, 'id_str': '1180176660269817856', 'text': 'Tweet using Python and Tweepy packages', 'truncated': False, 'entities': {'hashtags': [], 'symbols': [], 'user_mentions': [], 'urls': []}, 'source': '<a href=\"https://github.com/Taiba528/word-cloud/blob/master/SentimentAnalysis.ipynb\" rel=\"nofollow\">taiba.naz@gmail.com</a>', 'in_reply_to_status_id': None, 'in_reply_to_status_id_str': None, 'in_reply_to_user_id': None, 'in_reply_to_user_id_str': None, 'in_reply_to_screen_name': None, 'user': {'id': 1170921863419088896, 'id_str': '1170921863419088896', 'name': 'Taiba', 'screen_name': 'Taiba57043816', 'location': '', 'description': 'I like Python', 'url': None, 'entities': {'description': {'urls': []}}, 'protected': False, 'followers_count': 0, 'friends_count': 4, 'listed_count': 0, 'created_at': 'Mon Sep 09 04:49:18 +0000 2019', 'favourites_count': 10, 'utc_offset': None, 'time_zone': None, 'geo_enabled': False, 'verified': False, 'statuses_count': 12, 'lang': None, 'contributors_enabled': False, 'is_translator': False, 'is_translation_enabled': False, 'profile_background_color': 'F5F8FA', 'profile_background_image_url': None, 'profile_background_image_url_https': None, 'profile_background_tile': False, 'profile_image_url': 'http://abs.twimg.com/sticky/default_profile_images/default_profile_normal.png', 'profile_image_url_https': 'https://abs.twimg.com/sticky/default_profile_images/default_profile_normal.png', 'profile_link_color': '1DA1F2', 'profile_sidebar_border_color': 'C0DEED', 'profile_sidebar_fill_color': 'DDEEF6', 'profile_text_color': '333333', 'profile_use_background_image': True, 'has_extended_profile': False, 'default_profile': True, 'default_profile_image': True, 'following': False, 'follow_request_sent': False, 'notifications': False, 'translator_type': 'none'}, 'geo': None, 'coordinates': None, 'place': None, 'contributors': None, 'is_quote_status': False, 'retweet_count': 0, 'favorite_count': 1, 'favorited': True, 'retweeted': False, 'lang': 'en'}, created_at=datetime.datetime(2019, 10, 4, 17, 43, 37), id=1180176660269817856, id_str='1180176660269817856', text='Tweet using Python and Tweepy packages', truncated=False, entities={'hashtags': [], 'symbols': [], 'user_mentions': [], 'urls': []}, source='taiba.naz@gmail.com', source_url='https://github.com/Taiba528/word-cloud/blob/master/SentimentAnalysis.ipynb', in_reply_to_status_id=None, in_reply_to_status_id_str=None, in_reply_to_user_id=None, in_reply_to_user_id_str=None, in_reply_to_screen_name=None, author=User(_api=<tweepy.api.API object at 0x7f807cffaa90>, _json={'id': 1170921863419088896, 'id_str': '1170921863419088896', 'name': 'Taiba', 'screen_name': 'Taiba57043816', 'location': '', 'description': 'I like Python', 'url': None, 'entities': {'description': {'urls': []}}, 'protected': False, 'followers_count': 0, 'friends_count': 4, 'listed_count': 0, 'created_at': 'Mon Sep 09 04:49:18 +0000 2019', 'favourites_count': 10, 'utc_offset': None, 'time_zone': None, 'geo_enabled': False, 'verified': False, 'statuses_count': 12, 'lang': None, 'contributors_enabled': False, 'is_translator': False, 'is_translation_enabled': False, 'profile_background_color': 'F5F8FA', 'profile_background_image_url': None, 'profile_background_image_url_https': None, 'profile_background_tile': False, 'profile_image_url': 'http://abs.twimg.com/sticky/default_profile_images/default_profile_normal.png', 'profile_image_url_https': 'https://abs.twimg.com/sticky/default_profile_images/default_profile_normal.png', 'profile_link_color': '1DA1F2', 'profile_sidebar_border_color': 'C0DEED', 'profile_sidebar_fill_color': 'DDEEF6', 'profile_text_color': '333333', 'profile_use_background_image': True, 'has_extended_profile': False, 'default_profile': True, 'default_profile_image': True, 'following': False, 'follow_request_sent': False, 'notifications': False, 'translator_type': 'none'}, id=1170921863419088896, id_str='1170921863419088896', name='Taiba', screen_name='Taiba57043816', location='', description='I like Python', url=None, entities={'description': {'urls': []}}, protected=False, followers_count=0, friends_count=4, listed_count=0, created_at=datetime.datetime(2019, 9, 9, 4, 49, 18), favourites_count=10, utc_offset=None, time_zone=None, geo_enabled=False, verified=False, statuses_count=12, lang=None, contributors_enabled=False, is_translator=False, is_translation_enabled=False, profile_background_color='F5F8FA', profile_background_image_url=None, profile_background_image_url_https=None, profile_background_tile=False, profile_image_url='http://abs.twimg.com/sticky/default_profile_images/default_profile_normal.png', profile_image_url_https='https://abs.twimg.com/sticky/default_profile_images/default_profile_normal.png', profile_link_color='1DA1F2', profile_sidebar_border_color='C0DEED', profile_sidebar_fill_color='DDEEF6', profile_text_color='333333', profile_use_background_image=True, has_extended_profile=False, default_profile=True, default_profile_image=True, following=False, follow_request_sent=False, notifications=False, translator_type='none'), user=User(_api=<tweepy.api.API object at 0x7f807cffaa90>, _json={'id': 1170921863419088896, 'id_str': '1170921863419088896', 'name': 'Taiba', 'screen_name': 'Taiba57043816', 'location': '', 'description': 'I like Python', 'url': None, 'entities': {'description': {'urls': []}}, 'protected': False, 'followers_count': 0, 'friends_count': 4, 'listed_count': 0, 'created_at': 'Mon Sep 09 04:49:18 +0000 2019', 'favourites_count': 10, 'utc_offset': None, 'time_zone': None, 'geo_enabled': False, 'verified': False, 'statuses_count': 12, 'lang': None, 'contributors_enabled': False, 'is_translator': False, 'is_translation_enabled': False, 'profile_background_color': 'F5F8FA', 'profile_background_image_url': None, 'profile_background_image_url_https': None, 'profile_background_tile': False, 'profile_image_url': 'http://abs.twimg.com/sticky/default_profile_images/default_profile_normal.png', 'profile_image_url_https': 'https://abs.twimg.com/sticky/default_profile_images/default_profile_normal.png', 'profile_link_color': '1DA1F2', 'profile_sidebar_border_color': 'C0DEED', 'profile_sidebar_fill_color': 'DDEEF6', 'profile_text_color': '333333', 'profile_use_background_image': True, 'has_extended_profile': False, 'default_profile': True, 'default_profile_image': True, 'following': False, 'follow_request_sent': False, 'notifications': False, 'translator_type': 'none'}, id=1170921863419088896, id_str='1170921863419088896', name='Taiba', screen_name='Taiba57043816', location='', description='I like Python', url=None, entities={'description': {'urls': []}}, protected=False, followers_count=0, friends_count=4, listed_count=0, created_at=datetime.datetime(2019, 9, 9, 4, 49, 18), favourites_count=10, utc_offset=None, time_zone=None, geo_enabled=False, verified=False, statuses_count=12, lang=None, contributors_enabled=False, is_translator=False, is_translation_enabled=False, profile_background_color='F5F8FA', profile_background_image_url=None, profile_background_image_url_https=None, profile_background_tile=False, profile_image_url='http://abs.twimg.com/sticky/default_profile_images/default_profile_normal.png', profile_image_url_https='https://abs.twimg.com/sticky/default_profile_images/default_profile_normal.png', profile_link_color='1DA1F2', profile_sidebar_border_color='C0DEED', profile_sidebar_fill_color='DDEEF6', profile_text_color='333333', profile_use_background_image=True, has_extended_profile=False, default_profile=True, default_profile_image=True, following=False, follow_request_sent=False, notifications=False, translator_type='none'), geo=None, coordinates=None, place=None, contributors=None, is_quote_status=False, retweet_count=0, favorite_count=1, favorited=True, retweeted=False, lang='en')"
            ]
          },
          "metadata": {
            "tags": []
          },
          "execution_count": 63
        }
      ]
    },
    {
      "cell_type": "markdown",
      "metadata": {
        "id": "Njla7k_AXWWp",
        "colab_type": "text"
      },
      "source": [
        "This code uses home_timeline() to get the most recent tweet. Then, the tweet.id is passed to create_favorite() to mark the tweet as Liked."
      ]
    },
    {
      "cell_type": "markdown",
      "metadata": {
        "id": "eJQlWr-MXoCQ",
        "colab_type": "text"
      },
      "source": [
        "# 3.Methods for Blocking follower"
      ]
    },
    {
      "cell_type": "code",
      "metadata": {
        "id": "fDDdVu1XXwhg",
        "colab_type": "code",
        "colab": {}
      },
      "source": [
        "for block in api.blocks():\n",
        "    print(block.ar14161995)"
      ],
      "execution_count": 0,
      "outputs": []
    },
    {
      "cell_type": "markdown",
      "metadata": {
        "id": "M1_Rs5ULX5C9",
        "colab_type": "text"
      },
      "source": [
        "I have blocked one of my followers using the above command\n"
      ]
    },
    {
      "cell_type": "markdown",
      "metadata": {
        "id": "1kCZHWORYLD7",
        "colab_type": "text"
      },
      "source": [
        "#  4.Pulling tweets mentioning flight with negative feedback."
      ]
    },
    {
      "cell_type": "code",
      "metadata": {
        "id": "L9Qb2mztYN24",
        "colab_type": "code",
        "colab": {
          "base_uri": "https://localhost:8080/",
          "height": 213
        },
        "outputId": "b614e214-cebb-4503-e902-9274aa9dbf94"
      },
      "source": [
        "tweets = tw.Cursor(api.search, q='flight :( -filter:retweets',lang = 'en', since = '2019-04-01').items(10)\n",
        "tweets_text = [tweet.text for tweet in tweets]\n",
        "tweets_text\n"
      ],
      "execution_count": 65,
      "outputs": [
        {
          "output_type": "execute_result",
          "data": {
            "text/plain": [
              "['@flySAA_US Dear SAA. 15 min after departing SA161 today I realised I left my headphones behind. Please help. I trie… https://t.co/wHlay6oVxA',\n",
              " 'my baby safe flight :( https://t.co/2jjjcLF4G7',\n",
              " 'My freaking laptop died in the midst of me freaking booking my flight :(',\n",
              " '(Progress should happen a lot faster now, most of the line for security... :(\\n\\nFlight was delayed by 13 minutes. Phew.',\n",
              " '@samay_srt Hi, Samay. We know how delays can impact our travel plan :( Your flight was affected due to late arrival… https://t.co/x5YGnN5Ezg',\n",
              " \"not to be emo but I rmb hearing mots:persona for the first time and got sad that I wasn't able to see it live... bu… https://t.co/7zSBzSAFWv\",\n",
              " '@simco_ffc @FulhamFC I looked into coming up for Boro as its half term, but the trains take nearly as long as going… https://t.co/bl6otttgNX',\n",
              " 'at least my mom is coming tmrw and my dad is safely on flight to abu dhabi ::( i miss both of them so much! but aba… https://t.co/W3mA3LGRQr',\n",
              " 'I can get a flight to London in Wednesday for €30 :( why does college have to exist',\n",
              " 'dear @delta - have been trying to adjust a flight due to a family death and am shocked at how high the change fee is. disappointing :(']"
            ]
          },
          "metadata": {
            "tags": []
          },
          "execution_count": 65
        }
      ]
    },
    {
      "cell_type": "markdown",
      "metadata": {
        "id": "yRAyHc7RY6vX",
        "colab_type": "text"
      },
      "source": [
        "Check the 2nd tweet by Bipul\" we can feel the inconvenience our little flier must have faced \".He expressed his grievance about that particular flight."
      ]
    },
    {
      "cell_type": "markdown",
      "metadata": {
        "id": "P95Ul77UY2n8",
        "colab_type": "text"
      },
      "source": [
        "# 5.Pulling Tweets about politics but not sensitive"
      ]
    },
    {
      "cell_type": "code",
      "metadata": {
        "id": "dsADwFyFYH0U",
        "colab_type": "code",
        "colab": {
          "base_uri": "https://localhost:8080/",
          "height": 213
        },
        "outputId": "ae609ffb-1fbe-4be3-ab28-1cbcd9510899"
      },
      "source": [
        "#Pulling tweets containing “politics” with Tweets marked as potentially sensitive removed\n",
        "tweets = tw.Cursor(api.search, q= 'politics filter:safe' ,lang = 'en', since = '2019-04-01').items(10)\n",
        "tweets_text = [tweet.text for tweet in tweets]\n",
        "tweets_text"
      ],
      "execution_count": 66,
      "outputs": [
        {
          "output_type": "execute_result",
          "data": {
            "text/plain": [
              "['@danielclay82 @DomiNateFF Yeah, you might not dig my politics.',\n",
              " 'She going to need more than that to revive her campaign / career. https://t.co/GPEPlPtSvP',\n",
              " \"Don't worry.  As we have been told before, Joe is just being Joe: https://t.co/E9Q2tTj9pg.\",\n",
              " 'RT @realDonaldTrump: As President I have an obligation to end CORRUPTION, even if that means requesting the help of a foreign country or co…',\n",
              " 'RT @CameronMcNeish: @YouGov @WingsScotland Has British politics ever reached such a low that a despicable creature like BJ could get such a…',\n",
              " 'i speak out against both, but i am not in politics, im in the justice system https://t.co/9hBin3nroc',\n",
              " \"RT @AynRandPaulRyan: During a phone call with President Xi of China on June 18, Trump raised Biden's political prospects as well as those o…\",\n",
              " \"RT @mmurraypolitics: Here's your quid pro quo.\\n\\nThis morning's @MTPFirstRead: https://t.co/bWNpPflhZn https://t.co/bzSOD3BRwQ\",\n",
              " 'RT @neal_katyal: I know everyone rightly focused on text msgs,but...Giuliani was writing a statement for new Ukrainian President? About Bid…',\n",
              " 'RT @Imamofpeace: HUGE: Australian Employment Minister \\u2066@SenatorCash\\u2069 has threatened to suspend welfare payments of activists who spend thei…']"
            ]
          },
          "metadata": {
            "tags": []
          },
          "execution_count": 66
        }
      ]
    },
    {
      "cell_type": "markdown",
      "metadata": {
        "id": "LEUTdbqFZi6I",
        "colab_type": "text"
      },
      "source": [
        "Check the first tweet,its something about politics but no sensitive thing has been mentioned here."
      ]
    },
    {
      "cell_type": "markdown",
      "metadata": {
        "id": "mNgWw95Maqeq",
        "colab_type": "text"
      },
      "source": [
        "# 6.Asking a question about anything"
      ]
    },
    {
      "cell_type": "code",
      "metadata": {
        "id": "of03Hw_Ea1hr",
        "colab_type": "code",
        "colab": {
          "base_uri": "https://localhost:8080/",
          "height": 72
        },
        "outputId": "7f68b55c-5920-4eb5-fe90-899a4152d83b"
      },
      "source": [
        "#Pulling tweets containing “rain in Bengaluru” and asking a question\n",
        "tweets = tw.Cursor(api.search, q= 'rain in Bengaluru ?' ,lang = 'en', since = '2019-04-01').items(10)\n",
        "tweets_text = [tweet.text for tweet in tweets]\n",
        "tweets_text"
      ],
      "execution_count": 67,
      "outputs": [
        {
          "output_type": "execute_result",
          "data": {
            "text/plain": [
              "['@BBMPCOMM @csogok @chairmanbwssb @blrcitytraffic @NammaBESCOM What standby sir ? Ask them to pump out water , most… https://t.co/MU7Eu5z95K',\n",
              " 'India vs South Africa 3rd T20I, Bengaluru Weather Forecast Today: Is rain likely to play spoilsport in final?… https://t.co/vG0aibBMEv']"
            ]
          },
          "metadata": {
            "tags": []
          },
          "execution_count": 67
        }
      ]
    },
    {
      "cell_type": "markdown",
      "metadata": {
        "id": "5Y3x3WUMbV61",
        "colab_type": "text"
      },
      "source": [
        "Here I wanted to know the people feeling about   the rain in Bengaluru with the help of tweepy."
      ]
    },
    {
      "cell_type": "markdown",
      "metadata": {
        "id": "0azH7fLVb4ny",
        "colab_type": "text"
      },
      "source": [
        ""
      ]
    },
    {
      "cell_type": "markdown",
      "metadata": {
        "id": "gaXCPY7ncvMd",
        "colab_type": "text"
      },
      "source": [
        "# 7.Pulling the location and description of followers."
      ]
    },
    {
      "cell_type": "code",
      "metadata": {
        "id": "CXEK7_qdcuzG",
        "colab_type": "code",
        "colab": {
          "base_uri": "https://localhost:8080/",
          "height": 1000
        },
        "outputId": "9903bb71-8762-4a2f-8e00-8424c3932e7c"
      },
      "source": [
        "# Location and descripton of followers\n",
        "user = api.get_user(\"Taiba\")\n",
        "print(\"First 10 Followers:\")\n",
        "for follower in user.followers():\n",
        "    print(follower.name)\n",
        "    print(follower.description)\n",
        "    print(follower.location)\n"
      ],
      "execution_count": 68,
      "outputs": [
        {
          "output_type": "stream",
          "text": [
            "First 10 Followers:\n",
            "Dr.Ali\n",
            "\n",
            "الأسكندرية, مصر\n",
            "١٤١٦\n",
            "بائس جداً\n",
            "\n",
            "Jubair\n",
            "\n",
            "\n",
            "Sarfaraz\n",
            "\n",
            "اسلام آباد, پاکستان\n",
            "fallow ubqari\n",
            "\n",
            "\n",
            "Follow dailyH haripu\n",
            "\n",
            "\n",
            "Ali Hussain shah\n",
            "\n",
            "\n",
            "گلدسته تازه خبرین\n",
            "\n",
            "\n",
            "Ghulam Rasool\n",
            "\n",
            "\n",
            "M.Tarim Naeem\n",
            "\n",
            "\n",
            "My shikarpur@alaret\n",
            "\n",
            "\n",
            "Mohammad Tayyab.\n",
            "\n",
            "\n",
            "Adhyaan matto\n",
            "Branch manager of ys institute of IT and management.\n",
            "jammu\n",
            "YES DR. LAIQ AHMED R\n",
            "\n",
            "\n",
            "qaribullah parwani\n",
            "ņøń ôf ýøúř bùšïņęs\n",
            "kabul, afghanistan\n",
            "UNSUB ELMIMSG\n",
            "\n",
            "\n",
            "raja waqar\n",
            "\n",
            "\n",
            "Hamood\n",
            "\n",
            "Lahore ,Pakistan\n",
            "Hamizi Djaafer\n",
            "\n",
            "\n",
            "Love-guru\n",
            "\n",
            "Kasur\n"
          ],
          "name": "stdout"
        }
      ]
    },
    {
      "cell_type": "markdown",
      "metadata": {
        "id": "5SEWm36mdGci",
        "colab_type": "text"
      },
      "source": [
        "Here I tried to know the location of my followers.Some of them have not mentioned their places and rest are from different places."
      ]
    },
    {
      "cell_type": "markdown",
      "metadata": {
        "id": "OdJFOV_vdukb",
        "colab_type": "text"
      },
      "source": [
        "#8.Method for trends"
      ]
    },
    {
      "cell_type": "code",
      "metadata": {
        "id": "rnzr7EiSdv6s",
        "colab_type": "code",
        "colab": {
          "base_uri": "https://localhost:8080/",
          "height": 896
        },
        "outputId": "a3c5141d-1de6-41b2-9723-63ffc959ae5b"
      },
      "source": [
        "# Method for trends\n",
        "trends_result = api.trends_place(1)\n",
        "for trend in trends_result[0][\"trends\"]:\n",
        "    print(trend[\"name\"])"
      ],
      "execution_count": 69,
      "outputs": [
        {
          "output_type": "stream",
          "text": [
            "Diahann Carroll\n",
            "#FreeCodeFridayContest\n",
            "#HappyXiaoZhanDay\n",
            "Rahatsız Oldular\n",
            "#NationalTacoDay\n",
            "#IThinkI\n",
            "Scorsese\n",
            "#WorldSmileDay\n",
            "#10kHours\n",
            "#รักฉุดใจนายฉุกเฉินEP9\n",
            "#15AñosRBD\n",
            "#FridayFeeling\n",
            "#孤独のグルメ\n",
            "#inktoberday4\n",
            "#モンハン化\n",
            "#احتاج_اهج\n",
            "#benseniçoksevdim\n",
            "#Sözleşmeli6SenedirKadrosuz\n",
            "#سكن_المراه_بدون_محرم\n",
            "#FelizViernesATodos\n",
            "#ป๋อตี้จ้านเกอ\n",
            "#MCOsocks\n",
            "#DiaMundialDeLosAnimales\n",
            "#ilkokulasporöğretmeniatansın\n",
            "#PokemonSwordShield\n",
            "#SF9_3rd_Anniversary\n",
            "#RMonVACATION\n",
            "#birilerivar\n",
            "#bananamoon\n",
            "#LulaNobelDaPaz\n",
            "#PantunSantuyy\n",
            "#EuConfioEmBolsonaro\n",
            "#الاتحاد_الحزم_الدوري\n",
            "#에셒구_3주년_팡파레_울려퍼져\n",
            "#ポケモンライブカメラ\n",
            "#زليخه_حبيبه_اسرع\n",
            "#FBvANT\n",
            "#jadine\n",
            "#ImpeachmentTaskForce\n",
            "#DripBaylessContest\n",
            "#YoEstoyConIvanCepeda\n",
            "#WigUtaarKRK\n",
            "#ParoNacionalEC\n",
            "#TheGreat_HinduSaint\n",
            "#GreatJobBamBam\n",
            "#THALA60LatestPics\n",
            "#YouTubeAndrewYang\n",
            "#العالمي_نادي_الهلال\n",
            "#ミッドナイト公演\n",
            "#ساعه_استجابه\n"
          ],
          "name": "stdout"
        }
      ]
    },
    {
      "cell_type": "markdown",
      "metadata": {
        "id": "83QNofBUepeb",
        "colab_type": "text"
      },
      "source": [
        "##  9.Finding the names and locations of the users who are tweeting on a particular topic\n"
      ]
    },
    {
      "cell_type": "code",
      "metadata": {
        "id": "1IYZtLiDerpN",
        "colab_type": "code",
        "colab": {
          "base_uri": "https://localhost:8080/",
          "height": 351
        },
        "outputId": "5310484d-a195-4ca4-aff1-ff3db0c5804e"
      },
      "source": [
        "tweets = tw.Cursor(api.search, q='samsung galaxy s7 edge',lang = 'en', since = '2019-04-01').items(10)\n",
        "users = [[tweet.user.screen_name,tweet.user.location] for tweet in tweets]\n",
        "users\n",
        "users_location=pd.DataFrame(data=users,columns=[\"screen_name\",\"location\"])\n",
        "users_location"
      ],
      "execution_count": 70,
      "outputs": [
        {
          "output_type": "execute_result",
          "data": {
            "text/html": [
              "<div>\n",
              "<style scoped>\n",
              "    .dataframe tbody tr th:only-of-type {\n",
              "        vertical-align: middle;\n",
              "    }\n",
              "\n",
              "    .dataframe tbody tr th {\n",
              "        vertical-align: top;\n",
              "    }\n",
              "\n",
              "    .dataframe thead th {\n",
              "        text-align: right;\n",
              "    }\n",
              "</style>\n",
              "<table border=\"1\" class=\"dataframe\">\n",
              "  <thead>\n",
              "    <tr style=\"text-align: right;\">\n",
              "      <th></th>\n",
              "      <th>screen_name</th>\n",
              "      <th>location</th>\n",
              "    </tr>\n",
              "  </thead>\n",
              "  <tbody>\n",
              "    <tr>\n",
              "      <th>0</th>\n",
              "      <td>DailyEbayDeal</td>\n",
              "      <td></td>\n",
              "    </tr>\n",
              "    <tr>\n",
              "      <th>1</th>\n",
              "      <td>DailyEbayDeal</td>\n",
              "      <td></td>\n",
              "    </tr>\n",
              "    <tr>\n",
              "      <th>2</th>\n",
              "      <td>FastSellSA</td>\n",
              "      <td>South Africa</td>\n",
              "    </tr>\n",
              "    <tr>\n",
              "      <th>3</th>\n",
              "      <td>hesheshopping</td>\n",
              "      <td>United States</td>\n",
              "    </tr>\n",
              "    <tr>\n",
              "      <th>4</th>\n",
              "      <td>parkerchuks</td>\n",
              "      <td>Abuja</td>\n",
              "    </tr>\n",
              "    <tr>\n",
              "      <th>5</th>\n",
              "      <td>G_Lee_Inc</td>\n",
              "      <td>United States</td>\n",
              "    </tr>\n",
              "    <tr>\n",
              "      <th>6</th>\n",
              "      <td>MunirRahool</td>\n",
              "      <td></td>\n",
              "    </tr>\n",
              "    <tr>\n",
              "      <th>7</th>\n",
              "      <td>narutogifts</td>\n",
              "      <td>Worldwide</td>\n",
              "    </tr>\n",
              "    <tr>\n",
              "      <th>8</th>\n",
              "      <td>cuttie_kat</td>\n",
              "      <td>Sydney, New South Wales</td>\n",
              "    </tr>\n",
              "    <tr>\n",
              "      <th>9</th>\n",
              "      <td>SamFirmware</td>\n",
              "      <td>The Netherlands</td>\n",
              "    </tr>\n",
              "  </tbody>\n",
              "</table>\n",
              "</div>"
            ],
            "text/plain": [
              "     screen_name                 location\n",
              "0  DailyEbayDeal                         \n",
              "1  DailyEbayDeal                         \n",
              "2     FastSellSA             South Africa\n",
              "3  hesheshopping            United States\n",
              "4    parkerchuks                    Abuja\n",
              "5      G_Lee_Inc            United States\n",
              "6    MunirRahool                         \n",
              "7    narutogifts                Worldwide\n",
              "8     cuttie_kat  Sydney, New South Wales\n",
              "9    SamFirmware          The Netherlands"
            ]
          },
          "metadata": {
            "tags": []
          },
          "execution_count": 70
        }
      ]
    },
    {
      "cell_type": "markdown",
      "metadata": {
        "id": "syiPhv2IgK59",
        "colab_type": "text"
      },
      "source": [
        "These are some people who are tweeting about Samsung galaxy S7 edge(my phone).Most of them had not mentioned their location,but it doesn't matter at all.\n",
        "I have created the data frame with their name and location."
      ]
    },
    {
      "cell_type": "markdown",
      "metadata": {
        "id": "w3T5m92U77z2",
        "colab_type": "text"
      },
      "source": [
        "# 10.Searching tweets containing two different words"
      ]
    },
    {
      "cell_type": "code",
      "metadata": {
        "id": "ItArFBvWcQZX",
        "colab_type": "code",
        "colab": {
          "base_uri": "https://localhost:8080/",
          "height": 213
        },
        "outputId": "9c312f49-02b6-462c-a812-ed23bfca2b4d"
      },
      "source": [
        "# Pulling tweets containing both “watching” and “now”\n",
        "tweets = tw.Cursor(api.search, q='watching now-filter:retweets',lang = 'en', since = '2019-04-01').items(10)\n",
        "tweets_text = [tweet.text for tweet in tweets]\n",
        "tweets_text"
      ],
      "execution_count": 71,
      "outputs": [
        {
          "output_type": "execute_result",
          "data": {
            "text/plain": [
              "['All the people who were judged for having kids at a young age watching the people who waited to have kids struggle… https://t.co/X0EonWrkaR',\n",
              " \"@jcowens24 @dwfoil @BobbyBeltTX Yeah, last year when we won 13-10 I was watching with a buddy who's a Saints fan. I… https://t.co/MlHYXVTMmG\",\n",
              " 'Watched Civil war today\\n\\nSecond time watching it sincecit came out\\n\\nI ENJOYED THE HECK OUT OF IT\\n\\nMore than I did t… https://t.co/oofelcLpy5',\n",
              " \"@AnnaZindabad Yes i am watching daily! I didn't find any worst!\\nNow can you please tell me what is that worst .\",\n",
              " \"Been addicted to Rugby. Never really liked the game growing up as I found it a bit too violent for me. Now, can't stop watching it. 💕\",\n",
              " 'Watching straight white guys openly gripe about Greta Thunberg being attention-seeking is probably my favourite thing right now.',\n",
              " \"we're still watching it tho, mostly because we are curious and want to hang out BUT we are also thinking of going t… https://t.co/55nbPtJZAB\",\n",
              " '@GlamLifeGuru Watching right now!! Huda foundation, concealer and powder just don’t work on my skin. I have dry ski… https://t.co/4KRLZsKWu8',\n",
              " 'I’m such a bad mom 😂 I let my son stay home because he looked at me this morning when I tried waking him up for sch… https://t.co/br3US7R98W',\n",
              " \"@vapidcontent You're watching it right now and damn I wish I was there to see it again. Enjoy it king\"]"
            ]
          },
          "metadata": {
            "tags": []
          },
          "execution_count": 71
        }
      ]
    }
  ]
}